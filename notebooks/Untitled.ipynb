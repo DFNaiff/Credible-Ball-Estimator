{
 "cells": [
  {
   "cell_type": "markdown",
   "metadata": {},
   "source": [
    "Credible estimator applied to Gaussians"
   ]
  },
  {
   "cell_type": "code",
   "execution_count": 11,
   "metadata": {},
   "outputs": [],
   "source": [
    "import numpy as np\n",
    "import matplotlib.pyplot as plt"
   ]
  },
  {
   "cell_type": "code",
   "execution_count": 12,
   "metadata": {},
   "outputs": [],
   "source": [
    "import sys\n",
    "sys.path.append(\"../src\")\n",
    "import numpy as np\n",
    "import matplotlib.pyplot as plt"
   ]
  },
  {
   "cell_type": "code",
   "execution_count": 13,
   "metadata": {},
   "outputs": [],
   "source": [
    "import credible_estimator"
   ]
  },
  {
   "cell_type": "code",
   "execution_count": 19,
   "metadata": {},
   "outputs": [
    {
     "name": "stdout",
     "output_type": "stream",
     "text": [
      "Beginning warming...\n",
      "k = 4.000000\n",
      "Beginning calculation...\n",
      "0.5037037037037038 0.5370370370370371\n",
      "0.5036076817558299 0.5027434842249657\n",
      "0.4998414146836047 0.4659450110335778\n",
      "0.49989641208484525 0.5003913886960102\n",
      "0.49675693453721287 0.4685016366085215\n",
      "0.4968904621227514 0.49809221039259816\n",
      "0.5001381214023063 0.5293670549183006\n",
      "Finished\n"
     ]
    },
    {
     "data": {
      "text/plain": [
       "2.0005387195764675"
      ]
     },
     "execution_count": 19,
     "metadata": {},
     "output_type": "execute_result"
    }
   ],
   "source": [
    "sampler = lambda N : np.random.randn(N,1)\n",
    "credible_estimator.credible_ball_estimator(sampler,0.954,0.0,verbose=1,maxiter=1000,maxdrift=1000,tol=1e-3)"
   ]
  },
  {
   "cell_type": "code",
   "execution_count": 26,
   "metadata": {},
   "outputs": [
    {
     "name": "stdout",
     "output_type": "stream",
     "text": [
      "Beginning warming...\n",
      "k = 6.000000\n",
      "Beginning calculation...\n",
      "0.5037037037037038 0.5370370370370371\n",
      "0.5104663923182442 0.5713305898491085\n",
      "0.5197281410354113 0.6030838794899153\n",
      "0.5310038342920476 0.6324850736017734\n",
      "0.5438742910111551 0.6597084014831236\n",
      "0.5579783805658844 0.6849151865584477\n",
      "0.5730060227461893 0.7082548023689331\n",
      "0.5886919762464715 0.7298655577490122\n",
      "0.6008083385281997 0.7098555990637535\n",
      "0.6135658385340939 0.7283833385871414\n",
      "0.6233320571020479 0.7112280242136336\n",
      "0.6337101088477906 0.7271125745594748\n",
      "0.6415795637202699 0.7124046575725842\n",
      "0.6500239172709542 0.7260230992271124\n",
      "0.6563628686467063 0.7134134310284752\n",
      "0.6632354867551274 0.7250890497309174\n",
      "0.6683397672469248 0.7142782916731009\n",
      "0.6739346158060069 0.7242882528377457\n",
      "0.6780431312531952 0.7150197702778894\n",
      "0.6825989879852808 0.7236016985740521\n",
      "0.6859046360537725 0.7156554686701978\n",
      "0.6896154813435498 0.7230130889515447\n",
      "0.6922739809671875 0.7162004775799274\n",
      "0.6952974279776852 0.7225084510721648\n",
      "0.6974344586674817 0.7166677348756493\n",
      "0.6998985933435312 0.7220758054279777\n",
      "0.7016155672786121 0.7170683326943397\n",
      "0.7036244987029291 0.7217048815217825\n",
      "0.7050032269081994 0.7174117807556318\n",
      "0.7066415916231418 0.7213868740576231\n",
      "0.7077480556719611 0.7177062321113346\n",
      "0.7090846734961103 0.7211142339134532\n",
      "Finished\n"
     ]
    }
   ],
   "source": [
    "sampler = lambda N : np.random.randn(N,10)\n",
    "r = credible_estimator.credible_ball_estimator(sampler,0.954,0.0,verbose=1,maxiter=1000,maxdrift=1000,tol=1e-3)"
   ]
  },
  {
   "cell_type": "code",
   "execution_count": 27,
   "metadata": {},
   "outputs": [
    {
     "data": {
      "text/plain": [
       "0.94765"
      ]
     },
     "execution_count": 27,
     "metadata": {},
     "output_type": "execute_result"
    }
   ],
   "source": [
    "np.mean((sampler(100000)**2).sum(axis=1) <= r**2)"
   ]
  },
  {
   "cell_type": "code",
   "execution_count": null,
   "metadata": {},
   "outputs": [],
   "source": []
  }
 ],
 "metadata": {
  "kernelspec": {
   "display_name": "Python 3",
   "language": "python",
   "name": "python3"
  },
  "language_info": {
   "codemirror_mode": {
    "name": "ipython",
    "version": 3
   },
   "file_extension": ".py",
   "mimetype": "text/x-python",
   "name": "python",
   "nbconvert_exporter": "python",
   "pygments_lexer": "ipython3",
   "version": "3.7.4"
  }
 },
 "nbformat": 4,
 "nbformat_minor": 2
}
